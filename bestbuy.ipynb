{
 "cells": [
  {
   "cell_type": "code",
   "execution_count": 3,
   "metadata": {},
   "outputs": [
    {
     "name": "stdout",
     "output_type": "stream",
     "text": [
      "Access Denied\n"
     ]
    },
    {
     "ename": "AttributeError",
     "evalue": "'NoneType' object has no attribute 'get_text'",
     "output_type": "error",
     "traceback": [
      "\u001b[0;31m---------------------------------------------------------------------------\u001b[0m",
      "\u001b[0;31mAttributeError\u001b[0m                            Traceback (most recent call last)",
      "Cell \u001b[0;32mIn[3], line 18\u001b[0m\n\u001b[1;32m     15\u001b[0m \u001b[38;5;28mprint\u001b[39m(title)\n\u001b[1;32m     17\u001b[0m \u001b[38;5;66;03m# Extract product price\u001b[39;00m\n\u001b[0;32m---> 18\u001b[0m price \u001b[38;5;241m=\u001b[39m \u001b[43msoup\u001b[49m\u001b[38;5;241;43m.\u001b[39;49m\u001b[43mfind\u001b[49m\u001b[43m(\u001b[49m\u001b[38;5;124;43m'\u001b[39;49m\u001b[38;5;124;43mdiv\u001b[39;49m\u001b[38;5;124;43m'\u001b[39;49m\u001b[43m,\u001b[49m\u001b[43m \u001b[49m\u001b[43mclass_\u001b[49m\u001b[38;5;241;43m=\u001b[39;49m\u001b[38;5;124;43m'\u001b[39;49m\u001b[38;5;124;43mpriceView-hero-price priceView-customer-price\u001b[39;49m\u001b[38;5;124;43m'\u001b[39;49m\u001b[43m)\u001b[49m\u001b[38;5;241;43m.\u001b[39;49m\u001b[43mget_text\u001b[49m()\n\u001b[1;32m     20\u001b[0m \u001b[38;5;66;03m# Extract product description\u001b[39;00m\n\u001b[1;32m     21\u001b[0m description \u001b[38;5;241m=\u001b[39m soup\u001b[38;5;241m.\u001b[39mfind(\u001b[38;5;124m'\u001b[39m\u001b[38;5;124mdiv\u001b[39m\u001b[38;5;124m'\u001b[39m, class_\u001b[38;5;241m=\u001b[39m\u001b[38;5;124m'\u001b[39m\u001b[38;5;124mmodel-description\u001b[39m\u001b[38;5;124m'\u001b[39m)\u001b[38;5;241m.\u001b[39mget_text(strip\u001b[38;5;241m=\u001b[39m\u001b[38;5;28;01mTrue\u001b[39;00m) \n",
      "\u001b[0;31mAttributeError\u001b[0m: 'NoneType' object has no attribute 'get_text'"
     ]
    }
   ],
   "source": [
    "import requests\n",
    "from bs4 import BeautifulSoup\n",
    "import csv\n",
    "\n",
    "# URL of product page\n",
    "url = 'https://www.bestbuy.com/site/apple-airpods-pro-white/5706659.p?skuId=5706659' \n",
    "\n",
    "# Make request and parse HTML\n",
    "response = requests.get(url)\n",
    "soup = BeautifulSoup(response.text, 'html.parser')\n",
    "\n",
    "# Extract product title\n",
    "title_element = soup.find('title')\n",
    "title = title_element.get_text()\n",
    "print(title)\n",
    "\n",
    "# Extract product price\n",
    "price = soup.find('div', class_='priceView-hero-price priceView-customer-price').get_text()\n",
    "\n",
    "# Extract product description\n",
    "description = soup.find('div', class_='model-description').get_text(strip=True) \n",
    "\n",
    "# Extract product image \n",
    "image = soup.find('img', class_='primary-image')['src']\n",
    "\n",
    "# Print extracted data\n",
    "print(title)\n",
    "print(price)\n",
    "print(description) \n",
    "print(image)\n",
    "\n",
    "# Write data to CSV\n",
    "with open('bestbuy.csv', 'w', newline='') as f:\n",
    "  writer = csv.writer(f) \n",
    "  writer.writerow(['title', 'price', 'description', 'image'])\n",
    "  writer.writerow([title, price, description, image])"
   ]
  }
 ],
 "metadata": {
  "kernelspec": {
   "display_name": "Python 3",
   "language": "python",
   "name": "python3"
  },
  "language_info": {
   "codemirror_mode": {
    "name": "ipython",
    "version": 3
   },
   "file_extension": ".py",
   "mimetype": "text/x-python",
   "name": "python",
   "nbconvert_exporter": "python",
   "pygments_lexer": "ipython3",
   "version": "3.10.13"
  }
 },
 "nbformat": 4,
 "nbformat_minor": 2
}

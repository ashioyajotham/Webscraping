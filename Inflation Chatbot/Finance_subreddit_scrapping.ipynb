{
  "cells": [
    {
      "cell_type": "markdown",
      "metadata": {
        "id": "ZV-NGrwkMudr"
      },
      "source": [
        "## Scraping Subreddit: Finance"
      ]
    },
    {
      "cell_type": "code",
      "execution_count": 36,
      "metadata": {
        "colab": {
          "base_uri": "https://localhost:8080/"
        },
        "id": "wvoL2-xWM8MV",
        "outputId": "07cccd6a-e9cb-401f-bcf5-c4555385acc1"
      },
      "outputs": [
        {
          "name": "stdout",
          "output_type": "stream",
          "text": [
            "Looking in indexes: https://pypi.org/simple, https://us-python.pkg.dev/colab-wheels/public/simple/\n",
            "Requirement already satisfied: praw in /usr/local/lib/python3.8/dist-packages (7.6.1)\n",
            "Requirement already satisfied: websocket-client>=0.54.0 in /usr/local/lib/python3.8/dist-packages (from praw) (1.4.2)\n",
            "Requirement already satisfied: prawcore<3,>=2.1 in /usr/local/lib/python3.8/dist-packages (from praw) (2.3.0)\n",
            "Requirement already satisfied: update-checker>=0.18 in /usr/local/lib/python3.8/dist-packages (from praw) (0.18.0)\n",
            "Requirement already satisfied: requests<3.0,>=2.6.0 in /usr/local/lib/python3.8/dist-packages (from prawcore<3,>=2.1->praw) (2.23.0)\n",
            "Requirement already satisfied: urllib3!=1.25.0,!=1.25.1,<1.26,>=1.21.1 in /usr/local/lib/python3.8/dist-packages (from requests<3.0,>=2.6.0->prawcore<3,>=2.1->praw) (1.24.3)\n",
            "Requirement already satisfied: idna<3,>=2.5 in /usr/local/lib/python3.8/dist-packages (from requests<3.0,>=2.6.0->prawcore<3,>=2.1->praw) (2.10)\n",
            "Requirement already satisfied: chardet<4,>=3.0.2 in /usr/local/lib/python3.8/dist-packages (from requests<3.0,>=2.6.0->prawcore<3,>=2.1->praw) (3.0.4)\n",
            "Requirement already satisfied: certifi>=2017.4.17 in /usr/local/lib/python3.8/dist-packages (from requests<3.0,>=2.6.0->prawcore<3,>=2.1->praw) (2022.12.7)\n"
          ]
        }
      ],
      "source": [
        "!pip install praw\n",
        "import praw\n",
        "from os.path import isfile"
      ]
    },
    {
      "cell_type": "code",
      "execution_count": 37,
      "metadata": {
        "id": "V_GRVeSrNFl0"
      },
      "outputs": [],
      "source": [
        "# We need to authenticate ourself. For this we need to create a Reddit instance and provide it with a client_id , client_secret and a user_agent\n",
        "\n",
        "reddit = praw.Reddit(client_id='9Z1x3NVm2Ac46tZXA9gF6Q', \n",
        "                     client_secret='zVr03vBEtgKMlmj3e-nYMn40alrYcA', \n",
        "                     user_agent='FinanceScrapper', check_for_async=False)"
      ]
    },
    {
      "cell_type": "code",
      "execution_count": 38,
      "metadata": {
        "colab": {
          "base_uri": "https://localhost:8080/"
        },
        "id": "2JmtDqAFMW3O",
        "outputId": "b5fc4290-c188-4aad-ced9-841968accf58"
      },
      "outputs": [
        {
          "name": "stdout",
          "output_type": "stream",
          "text": [
            "Moronic Monday - December 27, 2022 - Your Weekly Questions Thread\n",
            "\n",
            "Wall Street’s Big Banks Score $1 Trillion of Profit in a Decade\n",
            "\n",
            "Tesla stock marks lowest close in years as investors worry about Musk’s focus | Tesla\n",
            "\n",
            "U.S. SEC votes to advance stock market overhaul proposals\n",
            "\n",
            "Is this jacaranda finance website real, im looking at the reviews on productreview.com.au and they all seem really positive, it seems to good to be true, can someone help me recognize if its a scam or not?\n",
            "\n"
          ]
        }
      ],
      "source": [
        "subreddit = reddit.subreddit(\"finance\")\n",
        "\n",
        "for post in subreddit.hot(limit=5):\n",
        "\tprint(post.title)\n",
        "\tprint()"
      ]
    },
    {
      "cell_type": "code",
      "execution_count": 45,
      "metadata": {
        "colab": {
          "base_uri": "https://localhost:8080/",
          "height": 641
        },
        "id": "3i7U1EtGNXh6",
        "outputId": "02fcdd2e-1472-400d-9e94-6cbe84a26493"
      },
      "outputs": [
        {
          "data": {
            "text/html": [
              "\n",
              "  <div id=\"df-cc8ea1f4-9a87-4c3e-b6b2-4eeebc267271\">\n",
              "    <div class=\"colab-df-container\">\n",
              "      <div>\n",
              "<style scoped>\n",
              "    .dataframe tbody tr th:only-of-type {\n",
              "        vertical-align: middle;\n",
              "    }\n",
              "\n",
              "    .dataframe tbody tr th {\n",
              "        vertical-align: top;\n",
              "    }\n",
              "\n",
              "    .dataframe thead th {\n",
              "        text-align: right;\n",
              "    }\n",
              "</style>\n",
              "<table border=\"1\" class=\"dataframe\">\n",
              "  <thead>\n",
              "    <tr style=\"text-align: right;\">\n",
              "      <th></th>\n",
              "      <th>ID</th>\n",
              "      <th>Title</th>\n",
              "      <th>Post Text</th>\n",
              "      <th>Score</th>\n",
              "      <th>Upvotes</th>\n",
              "      <th>Media</th>\n",
              "      <th>Is_Video</th>\n",
              "      <th>Total Comments</th>\n",
              "      <th>Post Date</th>\n",
              "    </tr>\n",
              "  </thead>\n",
              "  <tbody>\n",
              "    <tr>\n",
              "      <th>0</th>\n",
              "      <td>zw3k7j</td>\n",
              "      <td>Moronic Monday - December 27, 2022 - Your Week...</td>\n",
              "      <td>This is your safe place for questions on finan...</td>\n",
              "      <td>7</td>\n",
              "      <td>0.78</td>\n",
              "      <td>None</td>\n",
              "      <td>False</td>\n",
              "      <td>10</td>\n",
              "      <td>1.672106e+09</td>\n",
              "    </tr>\n",
              "    <tr>\n",
              "      <th>1</th>\n",
              "      <td>zwk93s</td>\n",
              "      <td>Wall Street’s Big Banks Score $1 Trillion of P...</td>\n",
              "      <td></td>\n",
              "      <td>720</td>\n",
              "      <td>0.93</td>\n",
              "      <td>None</td>\n",
              "      <td>False</td>\n",
              "      <td>122</td>\n",
              "      <td>1.672160e+09</td>\n",
              "    </tr>\n",
              "    <tr>\n",
              "      <th>2</th>\n",
              "      <td>zx01bk</td>\n",
              "      <td>Tesla stock marks lowest close in years as inv...</td>\n",
              "      <td></td>\n",
              "      <td>10</td>\n",
              "      <td>0.78</td>\n",
              "      <td>None</td>\n",
              "      <td>False</td>\n",
              "      <td>12</td>\n",
              "      <td>1.672201e+09</td>\n",
              "    </tr>\n",
              "    <tr>\n",
              "      <th>3</th>\n",
              "      <td>zw017m</td>\n",
              "      <td>U.S. SEC votes to advance stock market overhau...</td>\n",
              "      <td></td>\n",
              "      <td>742</td>\n",
              "      <td>0.98</td>\n",
              "      <td>None</td>\n",
              "      <td>False</td>\n",
              "      <td>104</td>\n",
              "      <td>1.672097e+09</td>\n",
              "    </tr>\n",
              "    <tr>\n",
              "      <th>4</th>\n",
              "      <td>zwxoam</td>\n",
              "      <td>Is this jacaranda finance website real, im loo...</td>\n",
              "      <td></td>\n",
              "      <td>1</td>\n",
              "      <td>0.56</td>\n",
              "      <td>None</td>\n",
              "      <td>False</td>\n",
              "      <td>2</td>\n",
              "      <td>1.672194e+09</td>\n",
              "    </tr>\n",
              "    <tr>\n",
              "      <th>...</th>\n",
              "      <td>...</td>\n",
              "      <td>...</td>\n",
              "      <td>...</td>\n",
              "      <td>...</td>\n",
              "      <td>...</td>\n",
              "      <td>...</td>\n",
              "      <td>...</td>\n",
              "      <td>...</td>\n",
              "      <td>...</td>\n",
              "    </tr>\n",
              "    <tr>\n",
              "      <th>95</th>\n",
              "      <td>y4habi</td>\n",
              "      <td>Bostic acknowledges accidental trading that vi...</td>\n",
              "      <td></td>\n",
              "      <td>6</td>\n",
              "      <td>1.00</td>\n",
              "      <td>None</td>\n",
              "      <td>False</td>\n",
              "      <td>6</td>\n",
              "      <td>1.665818e+09</td>\n",
              "    </tr>\n",
              "    <tr>\n",
              "      <th>96</th>\n",
              "      <td>y3usnb</td>\n",
              "      <td>The Pool</td>\n",
              "      <td></td>\n",
              "      <td>15</td>\n",
              "      <td>0.69</td>\n",
              "      <td>None</td>\n",
              "      <td>False</td>\n",
              "      <td>8</td>\n",
              "      <td>1.665756e+09</td>\n",
              "    </tr>\n",
              "    <tr>\n",
              "      <th>97</th>\n",
              "      <td>y2bd70</td>\n",
              "      <td>Fed officials expect higher rates to stay in p...</td>\n",
              "      <td></td>\n",
              "      <td>987</td>\n",
              "      <td>0.97</td>\n",
              "      <td>None</td>\n",
              "      <td>False</td>\n",
              "      <td>147</td>\n",
              "      <td>1.665599e+09</td>\n",
              "    </tr>\n",
              "    <tr>\n",
              "      <th>98</th>\n",
              "      <td>y1ohjo</td>\n",
              "      <td>'Get this done!' BoE's Bailey gives UK funds 3...</td>\n",
              "      <td></td>\n",
              "      <td>357</td>\n",
              "      <td>0.97</td>\n",
              "      <td>None</td>\n",
              "      <td>False</td>\n",
              "      <td>66</td>\n",
              "      <td>1.665533e+09</td>\n",
              "    </tr>\n",
              "    <tr>\n",
              "      <th>99</th>\n",
              "      <td>y185f8</td>\n",
              "      <td>Serious debt crisis unfolding across developin...</td>\n",
              "      <td></td>\n",
              "      <td>597</td>\n",
              "      <td>0.98</td>\n",
              "      <td>None</td>\n",
              "      <td>False</td>\n",
              "      <td>107</td>\n",
              "      <td>1.665492e+09</td>\n",
              "    </tr>\n",
              "  </tbody>\n",
              "</table>\n",
              "<p>100 rows × 9 columns</p>\n",
              "</div>\n",
              "      <button class=\"colab-df-convert\" onclick=\"convertToInteractive('df-cc8ea1f4-9a87-4c3e-b6b2-4eeebc267271')\"\n",
              "              title=\"Convert this dataframe to an interactive table.\"\n",
              "              style=\"display:none;\">\n",
              "        \n",
              "  <svg xmlns=\"http://www.w3.org/2000/svg\" height=\"24px\"viewBox=\"0 0 24 24\"\n",
              "       width=\"24px\">\n",
              "    <path d=\"M0 0h24v24H0V0z\" fill=\"none\"/>\n",
              "    <path d=\"M18.56 5.44l.94 2.06.94-2.06 2.06-.94-2.06-.94-.94-2.06-.94 2.06-2.06.94zm-11 1L8.5 8.5l.94-2.06 2.06-.94-2.06-.94L8.5 2.5l-.94 2.06-2.06.94zm10 10l.94 2.06.94-2.06 2.06-.94-2.06-.94-.94-2.06-.94 2.06-2.06.94z\"/><path d=\"M17.41 7.96l-1.37-1.37c-.4-.4-.92-.59-1.43-.59-.52 0-1.04.2-1.43.59L10.3 9.45l-7.72 7.72c-.78.78-.78 2.05 0 2.83L4 21.41c.39.39.9.59 1.41.59.51 0 1.02-.2 1.41-.59l7.78-7.78 2.81-2.81c.8-.78.8-2.07 0-2.86zM5.41 20L4 18.59l7.72-7.72 1.47 1.35L5.41 20z\"/>\n",
              "  </svg>\n",
              "      </button>\n",
              "      \n",
              "  <style>\n",
              "    .colab-df-container {\n",
              "      display:flex;\n",
              "      flex-wrap:wrap;\n",
              "      gap: 12px;\n",
              "    }\n",
              "\n",
              "    .colab-df-convert {\n",
              "      background-color: #E8F0FE;\n",
              "      border: none;\n",
              "      border-radius: 50%;\n",
              "      cursor: pointer;\n",
              "      display: none;\n",
              "      fill: #1967D2;\n",
              "      height: 32px;\n",
              "      padding: 0 0 0 0;\n",
              "      width: 32px;\n",
              "    }\n",
              "\n",
              "    .colab-df-convert:hover {\n",
              "      background-color: #E2EBFA;\n",
              "      box-shadow: 0px 1px 2px rgba(60, 64, 67, 0.3), 0px 1px 3px 1px rgba(60, 64, 67, 0.15);\n",
              "      fill: #174EA6;\n",
              "    }\n",
              "\n",
              "    [theme=dark] .colab-df-convert {\n",
              "      background-color: #3B4455;\n",
              "      fill: #D2E3FC;\n",
              "    }\n",
              "\n",
              "    [theme=dark] .colab-df-convert:hover {\n",
              "      background-color: #434B5C;\n",
              "      box-shadow: 0px 1px 3px 1px rgba(0, 0, 0, 0.15);\n",
              "      filter: drop-shadow(0px 1px 2px rgba(0, 0, 0, 0.3));\n",
              "      fill: #FFFFFF;\n",
              "    }\n",
              "  </style>\n",
              "\n",
              "      <script>\n",
              "        const buttonEl =\n",
              "          document.querySelector('#df-cc8ea1f4-9a87-4c3e-b6b2-4eeebc267271 button.colab-df-convert');\n",
              "        buttonEl.style.display =\n",
              "          google.colab.kernel.accessAllowed ? 'block' : 'none';\n",
              "\n",
              "        async function convertToInteractive(key) {\n",
              "          const element = document.querySelector('#df-cc8ea1f4-9a87-4c3e-b6b2-4eeebc267271');\n",
              "          const dataTable =\n",
              "            await google.colab.kernel.invokeFunction('convertToInteractive',\n",
              "                                                     [key], {});\n",
              "          if (!dataTable) return;\n",
              "\n",
              "          const docLinkHtml = 'Like what you see? Visit the ' +\n",
              "            '<a target=\"_blank\" href=https://colab.research.google.com/notebooks/data_table.ipynb>data table notebook</a>'\n",
              "            + ' to learn more about interactive tables.';\n",
              "          element.innerHTML = '';\n",
              "          dataTable['output_type'] = 'display_data';\n",
              "          await google.colab.output.renderOutput(dataTable, element);\n",
              "          const docLink = document.createElement('div');\n",
              "          docLink.innerHTML = docLinkHtml;\n",
              "          element.appendChild(docLink);\n",
              "        }\n",
              "      </script>\n",
              "    </div>\n",
              "  </div>\n",
              "  "
            ],
            "text/plain": [
              "        ID                                              Title  \\\n",
              "0   zw3k7j  Moronic Monday - December 27, 2022 - Your Week...   \n",
              "1   zwk93s  Wall Street’s Big Banks Score $1 Trillion of P...   \n",
              "2   zx01bk  Tesla stock marks lowest close in years as inv...   \n",
              "3   zw017m  U.S. SEC votes to advance stock market overhau...   \n",
              "4   zwxoam  Is this jacaranda finance website real, im loo...   \n",
              "..     ...                                                ...   \n",
              "95  y4habi  Bostic acknowledges accidental trading that vi...   \n",
              "96  y3usnb                                           The Pool   \n",
              "97  y2bd70  Fed officials expect higher rates to stay in p...   \n",
              "98  y1ohjo  'Get this done!' BoE's Bailey gives UK funds 3...   \n",
              "99  y185f8  Serious debt crisis unfolding across developin...   \n",
              "\n",
              "                                            Post Text  Score  Upvotes Media  \\\n",
              "0   This is your safe place for questions on finan...      7     0.78  None   \n",
              "1                                                        720     0.93  None   \n",
              "2                                                         10     0.78  None   \n",
              "3                                                        742     0.98  None   \n",
              "4                                                          1     0.56  None   \n",
              "..                                                ...    ...      ...   ...   \n",
              "95                                                         6     1.00  None   \n",
              "96                                                        15     0.69  None   \n",
              "97                                                       987     0.97  None   \n",
              "98                                                       357     0.97  None   \n",
              "99                                                       597     0.98  None   \n",
              "\n",
              "    Is_Video  Total Comments     Post Date  \n",
              "0      False              10  1.672106e+09  \n",
              "1      False             122  1.672160e+09  \n",
              "2      False              12  1.672201e+09  \n",
              "3      False             104  1.672097e+09  \n",
              "4      False               2  1.672194e+09  \n",
              "..       ...             ...           ...  \n",
              "95     False               6  1.665818e+09  \n",
              "96     False               8  1.665756e+09  \n",
              "97     False             147  1.665599e+09  \n",
              "98     False              66  1.665533e+09  \n",
              "99     False             107  1.665492e+09  \n",
              "\n",
              "[100 rows x 9 columns]"
            ]
          },
          "execution_count": 45,
          "metadata": {},
          "output_type": "execute_result"
        }
      ],
      "source": [
        "import pandas as pd\n",
        "\n",
        "posts = subreddit.hot()\n",
        "# Scraping the top posts of the current month\n",
        "\n",
        "posts_dict = {\"ID\": [], \"Title\": [], \"Post Text\": [],\n",
        "\t\t\t\"Score\": [], \"Upvotes\":[], \"Media\": [],\n",
        "      \"Is_Video\":[],\n",
        "\t\t\t\"Total Comments\": [], \"Post Date\": []\n",
        "\t\t\t}\n",
        "\n",
        "for post in posts:\n",
        "  posts_dict[\"ID\"].append(post.id)\n",
        "\n",
        "  posts_dict[\"Title\"].append(post.title)\n",
        "  \n",
        "  posts_dict[\"Post Text\"].append(post.selftext)\n",
        "  \n",
        "  posts_dict[\"Score\"].append(post.score)\n",
        "\n",
        "  posts_dict[\"Upvotes\"].append(post.upvote_ratio)\n",
        "  \n",
        "  posts_dict[\"Media\"].append(post.media)\n",
        "  \n",
        "  posts_dict[\"Is_Video\"].append(post.is_video)\n",
        "  \n",
        "  posts_dict[\"Total Comments\"].append(post.num_comments)\n",
        "  \n",
        "  posts_dict[\"Post Date\"].append(post.created_utc)\n",
        "\n",
        "# Saving the data in a pandas dataframe\n",
        "top_posts = pd.DataFrame(posts_dict)\n",
        "top_posts"
      ]
    },
    {
      "cell_type": "code",
      "execution_count": 51,
      "metadata": {
        "id": "CdDJCRq_Ryc2"
      },
      "outputs": [],
      "source": [
        "top_posts[\"Post Date\"]=top_posts[\"Post Date\"].astype(object)"
      ]
    },
    {
      "cell_type": "code",
      "execution_count": 52,
      "metadata": {
        "colab": {
          "base_uri": "https://localhost:8080/"
        },
        "id": "EGswaYEZb1PJ",
        "outputId": "924b149b-fc1e-49d6-d1d5-74dc6eaa87c6"
      },
      "outputs": [
        {
          "name": "stdout",
          "output_type": "stream",
          "text": [
            "<class 'pandas.core.frame.DataFrame'>\n",
            "RangeIndex: 100 entries, 0 to 99\n",
            "Data columns (total 9 columns):\n",
            " #   Column          Non-Null Count  Dtype  \n",
            "---  ------          --------------  -----  \n",
            " 0   ID              100 non-null    object \n",
            " 1   Title           100 non-null    object \n",
            " 2   Post Text       100 non-null    object \n",
            " 3   Score           100 non-null    int64  \n",
            " 4   Upvotes         100 non-null    float64\n",
            " 5   Media           1 non-null      object \n",
            " 6   Is_Video        100 non-null    bool   \n",
            " 7   Total Comments  100 non-null    int64  \n",
            " 8   Post Date       100 non-null    object \n",
            "dtypes: bool(1), float64(1), int64(2), object(5)\n",
            "memory usage: 6.5+ KB\n"
          ]
        }
      ],
      "source": [
        "top_posts.info()"
      ]
    },
    {
      "cell_type": "code",
      "execution_count": null,
      "metadata": {
        "id": "8OJzjY3Ub5Q7"
      },
      "outputs": [],
      "source": [
        "top_posts "
      ]
    },
    {
      "cell_type": "code",
      "execution_count": 48,
      "metadata": {
        "id": "hUj4WQsIaA4o"
      },
      "outputs": [],
      "source": [
        "top_posts.to_csv(\"finance.csv\", index=True)"
      ]
    },
    {
      "cell_type": "markdown",
      "metadata": {
        "id": "rF7cLrQtQ2nf"
      },
      "source": [
        "## Comments"
      ]
    },
    {
      "cell_type": "code",
      "execution_count": null,
      "metadata": {
        "id": "7IX_0GTsQ5kW"
      },
      "outputs": [],
      "source": [
        "# URL of the post\n",
        "url = \"https://www.reddit.com/r/IAmA/comments/m8n4vt/\\\n",
        "im_bill_gates_cochair_of_the_bill_and_melinda/\"\n",
        " \n",
        "# Creating a submission object\n",
        "submission = reddit.submission(url=url)\n",
        "\n"
      ]
    }
  ],
  "metadata": {
    "colab": {
      "provenance": []
    },
    "kernelspec": {
      "display_name": "Python 3",
      "language": "python",
      "name": "python3"
    },
    "language_info": {
      "name": "python",
      "version": "3.10.6 (main, Nov 14 2022, 16:10:14) [GCC 11.3.0]"
    },
    "vscode": {
      "interpreter": {
        "hash": "916dbcbb3f70747c44a77c7bcd40155683ae19c65e1c03b4aa3499c5328201f1"
      }
    }
  },
  "nbformat": 4,
  "nbformat_minor": 0
}

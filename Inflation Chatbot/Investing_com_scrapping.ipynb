{
  "cells": [
    {
      "cell_type": "markdown",
      "metadata": {
        "id": "gKHvE5w94Y6E"
      },
      "source": [
        "# 1. Economic Calendar\n",
        "  **BeautifulSoup**"
      ]
    },
    {
      "cell_type": "code",
      "execution_count": 1,
      "metadata": {
        "id": "VkKOy2Af3hH8",
        "vscode": {
          "languageId": "python"
        }
      },
      "outputs": [],
      "source": [
        "from urllib.request import urlopen, Request\n",
        "from bs4 import BeautifulSoup as bs\n",
        "from datetime import datetime\n",
        "import json"
      ]
    },
    {
      "cell_type": "code",
      "execution_count": 2,
      "metadata": {
        "colab": {
          "base_uri": "https://localhost:8080/"
        },
        "id": "BEP891XX4iqz",
        "outputId": "775a6154-2f46-4d73-89d7-bcb318569d8c",
        "vscode": {
          "languageId": "python"
        }
      },
      "outputs": [
        {
          "data": {
            "text/html": [
              "<div>\n",
              "<style scoped>\n",
              "    .dataframe tbody tr th:only-of-type {\n",
              "        vertical-align: middle;\n",
              "    }\n",
              "\n",
              "    .dataframe tbody tr th {\n",
              "        vertical-align: top;\n",
              "    }\n",
              "\n",
              "    .dataframe thead th {\n",
              "        text-align: right;\n",
              "    }\n",
              "</style>\n",
              "<table border=\"1\" class=\"dataframe\">\n",
              "  <thead>\n",
              "    <tr style=\"text-align: right;\">\n",
              "      <th></th>\n",
              "      <th>currency</th>\n",
              "      <th>time</th>\n",
              "      <th>intensity</th>\n",
              "    </tr>\n",
              "  </thead>\n",
              "  <tbody>\n",
              "    <tr>\n",
              "      <th>0</th>\n",
              "      <td>RUB</td>\n",
              "      <td>01:00</td>\n",
              "      <td>{'1': 0, '2': 1, '3': 0}</td>\n",
              "    </tr>\n",
              "    <tr>\n",
              "      <th>1</th>\n",
              "      <td>ZAR</td>\n",
              "      <td>01:00</td>\n",
              "      <td>{'1': 2, '2': 0, '3': 0}</td>\n",
              "    </tr>\n",
              "    <tr>\n",
              "      <th>2</th>\n",
              "      <td>GBP</td>\n",
              "      <td>02:00</td>\n",
              "      <td>{'1': 0, '2': 2, '3': 0}</td>\n",
              "    </tr>\n",
              "    <tr>\n",
              "      <th>3</th>\n",
              "      <td>CHF</td>\n",
              "      <td>03:00</td>\n",
              "      <td>{'1': 0, '2': 1, '3': 0}</td>\n",
              "    </tr>\n",
              "    <tr>\n",
              "      <th>4</th>\n",
              "      <td>EUR</td>\n",
              "      <td>03:00</td>\n",
              "      <td>{'1': 2, '2': 2, '3': 0}</td>\n",
              "    </tr>\n",
              "    <tr>\n",
              "      <th>5</th>\n",
              "      <td>HKD</td>\n",
              "      <td>03:30</td>\n",
              "      <td>{'1': 1, '2': 0, '3': 0}</td>\n",
              "    </tr>\n",
              "    <tr>\n",
              "      <th>6</th>\n",
              "      <td>EUR</td>\n",
              "      <td>04:00</td>\n",
              "      <td>{'1': 1, '2': 0, '3': 0}</td>\n",
              "    </tr>\n",
              "    <tr>\n",
              "      <th>7</th>\n",
              "      <td>GBP</td>\n",
              "      <td>05:00</td>\n",
              "      <td>{'1': 1, '2': 0, '3': 0}</td>\n",
              "    </tr>\n",
              "    <tr>\n",
              "      <th>8</th>\n",
              "      <td>INR</td>\n",
              "      <td>05:00</td>\n",
              "      <td>{'1': 1, '2': 0, '3': 0}</td>\n",
              "    </tr>\n",
              "    <tr>\n",
              "      <th>9</th>\n",
              "      <td>INR</td>\n",
              "      <td>06:30</td>\n",
              "      <td>{'1': 2, '2': 0, '3': 0}</td>\n",
              "    </tr>\n",
              "  </tbody>\n",
              "</table>\n",
              "</div>"
            ],
            "text/plain": [
              "  currency   time                 intensity\n",
              "0      RUB  01:00  {'1': 0, '2': 1, '3': 0}\n",
              "1      ZAR  01:00  {'1': 2, '2': 0, '3': 0}\n",
              "2      GBP  02:00  {'1': 0, '2': 2, '3': 0}\n",
              "3      CHF  03:00  {'1': 0, '2': 1, '3': 0}\n",
              "4      EUR  03:00  {'1': 2, '2': 2, '3': 0}\n",
              "5      HKD  03:30  {'1': 1, '2': 0, '3': 0}\n",
              "6      EUR  04:00  {'1': 1, '2': 0, '3': 0}\n",
              "7      GBP  05:00  {'1': 1, '2': 0, '3': 0}\n",
              "8      INR  05:00  {'1': 1, '2': 0, '3': 0}\n",
              "9      INR  06:30  {'1': 2, '2': 0, '3': 0}"
            ]
          },
          "execution_count": 2,
          "metadata": {},
          "output_type": "execute_result"
        }
      ],
      "source": [
        "import pandas as pd\n",
        "\n",
        "def news_verification():\n",
        "    r = Request('https://investing.com/economic-calendar/', headers={'User-Agent': 'Mozilla/5.0'})\n",
        "    response = urlopen(r).read()\n",
        "    soup = bs(response, \"html.parser\")\n",
        "    table = soup.find_all(class_ = \"js-event-item\")\n",
        "\n",
        "    result = []\n",
        "    base = {}\n",
        "    \n",
        "    for bl in table:\n",
        "        time = bl.find(class_ =\"first left time js-time\").text\n",
        "        # evento = bl.find(class_ =\"left event\").text\n",
        "        currency = bl.find(class_ =\"left flagCur noWrap\").text.split(' ')\n",
        "        intensity = bl.find_all(class_=\"left textNum sentiment noWrap\")\n",
        "        id_hour = currency[1] + '_' + time\n",
        "         \n",
        "        if not id_hour in base:\n",
        "            base.update({id_hour : {'currency' : currency[1], 'time' : time,'intensity' : { \"1\": 0,\"2\": 0,\"3\": 0} } })\n",
        "        \n",
        "        intencity = base[id_hour]['intensity']\n",
        "            \n",
        "        for intence in intensity:\n",
        "            _true = intence.find_all(class_=\"grayFullBullishIcon\")\n",
        "            _false = intence.find_all(class_=\"grayEmptyBullishIcon\")\n",
        "            \n",
        "            if len(_true) == 1:\n",
        "                intencity['1'] += 1\n",
        "                \n",
        "            elif len(_true) == 2:\n",
        "                intencity['2'] += 1\n",
        "                \n",
        "            elif len(_true) == 3:\n",
        "                intencity['3'] += 1\n",
        "            \n",
        "        base[id_hour].update({'intensity' : intencity})\n",
        "\n",
        "    for b in base:\n",
        "        result.append(base[b])\n",
        "\n",
        "    return result\n",
        "\n",
        "news = news_verification()\n",
        "\n",
        "#print(json.dumps(news, indent=2))\n",
        "\n",
        "df = pd.DataFrame(news)\n",
        "df.head(10)"
      ]
    },
    {
      "cell_type": "code",
      "execution_count": null,
      "metadata": {
        "vscode": {
          "languageId": "python"
        }
      },
      "outputs": [],
      "source": [
        "import pandas as pd\n",
        "\n",
        "#HEADERS = headers.HEADERS\n",
        "url = \"https://www.investing.com/currencies/streaming-forex-rates-majors\"\n",
        "\n",
        "\n",
        "def getstringResult(len_list, list_tag_td, list_tag_th): # get string result\n",
        "  symbol = \"\"\n",
        "  stringResult=\"\"\n",
        "  for i in range(len_list):\n",
        "    stringResult += list_tag_th[i].text + list_tag_td[i].text + symbol\n",
        "  return stringResult\n",
        "\n",
        "session = requests.Session()\n",
        "request = session.get(url, headers=HEADERS)\n",
        "#print(request.status_code)\n",
        "\n",
        "\n",
        "soup = bs(request.content, 'lxml')\n",
        "tag_section = soup.find(\"section\", {\"id\":\"leftColumn\"})\n",
        "list_tables = tag_section.find_all(\"table\", {\"class\":\"genTbl\"})\n",
        "name_table = tag_section.find(\"h1\")\n",
        "\n",
        "if len(list_tables)>0:\n",
        "  for table in list_tables:\n",
        "    try:\n",
        "      list_tag_th = table.find(\"thead\").find_all(\"th\")\n",
        "      list_tag_tr = table.find(\"tbody\").find_all(\"tr\")\n",
        "    except:\n",
        "      print(\"No connection!\")\n",
        "\n",
        "for tr in list_tag_tr:\n",
        "  list_tag_td = tr.find_all(\"td\")\n",
        "  if len(list_tag_th) == len(list_tag_td):\n",
        "    result = getstringResult(len(list_tag_td), list_tag_td, list_tag_th)\n",
        "\n",
        "# Create a dataframe\n",
        "df = pd.DataFrame(columns=[\"Pair\", \"Bid\", \"Ask\", \"High\", \"Low\", \"Change\", \"%Change\", \"Time\"])\n",
        "df.head(10)"
      ]
    }
  ],
  "metadata": {
    "colab": {
      "provenance": []
    },
    "kernelspec": {
      "display_name": "Python 3 (ipykernel)",
      "language": "python",
      "name": "python3"
    },
    "vscode": {
      "interpreter": {
        "hash": "916dbcbb3f70747c44a77c7bcd40155683ae19c65e1c03b4aa3499c5328201f1"
      }
    }
  },
  "nbformat": 4,
  "nbformat_minor": 0
}

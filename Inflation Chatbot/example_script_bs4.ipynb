{
 "cells": [
  {
   "cell_type": "code",
   "execution_count": 1,
   "metadata": {
    "id": "-YUD3_MsLUmb"
   },
   "outputs": [],
   "source": [
    "from bs4 import BeautifulSoup\n",
    "import requests\n",
    "import re\n",
    "\n",
    "#Declare tuples for variable part of url\n",
    "forums_page_tup=[['anxiety',1],['depression',2],['ptsd-and-trauma',3],['suicidal-thoughts-and-self-harm',4]]\n",
    "\n",
    "#fixed parts of url\n",
    "sub_url='/bd-p/c1-sc2-b'\n",
    "base_url='https://forums.beyondblue.org.au/t5/'\n",
    "page_string='/page/'\n",
    "\n",
    "#empty dictionary for kind of category of mental health problem\n",
    "all_urls = {}\n",
    "\n",
    "#Categories of mental problem\n",
    "cat_urls = ['Anxiety', 'Depression', 'PTSD and trauma', 'Suicidal thoughts and self-harm']"
   ]
  },
  {
   "cell_type": "code",
   "execution_count": 2,
   "metadata": {
    "id": "7xTQdNQjMOJq"
   },
   "outputs": [],
   "source": [
    "#Define function to extract all url addreses to scrape posts, return dictionary with kind of mental problem, \n",
    "#base url, number of pages and all url addresses for given problem\n",
    "\n",
    "def urls_generator(basic, sub, category, category_list):\n",
    "    \n",
    "    all_urls = {}\n",
    "    \n",
    "\n",
    "    for i in range(len(cat_urls)):\n",
    "        num_cat_urls=[]\n",
    "\n",
    "        cat=str(category[i][0])\n",
    "        num=str(category[i][1])\n",
    "        #Create base url first page of forum\n",
    "        base_cat_url=basic+cat+sub+num\n",
    "        num_cat_urls.append(base_cat_url)\n",
    "\n",
    "\n",
    "        page_content=requests.get(base_cat_url).text\n",
    "        soup = BeautifulSoup(page_content, \"html.parser\")\n",
    "        #Extract last page to define how many pages scrape\n",
    "        last_page=soup.find('li',{'class':re.compile('lia-paging-page-last')})\n",
    "        if last_page!=None:\n",
    "            last_page=int(soup.find('li',{'class':re.compile('lia-paging-page-last')}).text)\n",
    "        else:\n",
    "            continue\n",
    "        urls_pages=list(range(2,last_page+1))\n",
    "        all_urls[cat_urls[i]] = {}\n",
    "        all_urls[cat_urls[i]]['url'] = num_cat_urls\n",
    "        all_urls[cat_urls[i]]['pages'] = urls_pages\n",
    "    for c in cat_urls:\n",
    "        \n",
    "        page_list= all_urls[c]['pages']\n",
    "\n",
    "        pages_to_url=[all_urls[c]['url'][0]]\n",
    "        for p in page_list:\n",
    "            basic_page=all_urls[c]['url'][0]\n",
    "\n",
    "            page_url=basic_page+page_string+str(p)\n",
    "\n",
    "\n",
    "\n",
    "            pages_to_url.append(page_url)\n",
    "        all_urls[c]['page_list']=pages_to_url\n",
    "    return all_urls\n",
    "\n"
   ]
  },
  {
   "cell_type": "code",
   "execution_count": 3,
   "metadata": {
    "id": "vUs79mRDMtDG"
   },
   "outputs": [],
   "source": [
    "urls=urls_generator(base_url,sub_url,forums_page_tup,cat_urls)"
   ]
  },
  {
   "cell_type": "code",
   "execution_count": 4,
   "metadata": {
    "id": "B318w5R4Nhiv"
   },
   "outputs": [
    {
     "name": "stderr",
     "output_type": "stream",
     "text": [
      "Progress for Anxiety posts 1/4: 100%|█████████| 639/639 [12:34<00:00,  1.18s/it]\n"
     ]
    },
    {
     "name": "stdout",
     "output_type": "stream",
     "text": [
      "Scraped 7662\n"
     ]
    },
    {
     "name": "stderr",
     "output_type": "stream",
     "text": [
      "Progress for Depression posts 2/4: 100%|██████| 551/551 [11:03<00:00,  1.20s/it]\n"
     ]
    },
    {
     "name": "stdout",
     "output_type": "stream",
     "text": [
      "Scraped 7158\n"
     ]
    },
    {
     "name": "stderr",
     "output_type": "stream",
     "text": [
      "Progress for PTSD and trauma posts 3/4: 100%|█| 169/169 [03:07<00:00,  1.11s/it]\n"
     ]
    },
    {
     "name": "stdout",
     "output_type": "stream",
     "text": [
      "Scraped 1858\n"
     ]
    },
    {
     "name": "stderr",
     "output_type": "stream",
     "text": [
      "Progress for Suicidal thoughts and self-harm posts 4/4: 100%|█| 83/83 [01:23<00:"
     ]
    },
    {
     "name": "stdout",
     "output_type": "stream",
     "text": [
      "Scraped 990\n"
     ]
    },
    {
     "name": "stderr",
     "output_type": "stream",
     "text": [
      "\n"
     ]
    }
   ],
   "source": [
    "#Now we can scrape posts with title and category\n",
    "\n",
    "from tqdm import tqdm\n",
    "posts=[]\n",
    "for i in range(len(cat_urls)):\n",
    "  #Define progress bar and description\n",
    "  pbar=tqdm(urls[cat_urls[i]]['page_list'])\n",
    "  pbar.set_description(\"Progress for \"+str(cat_urls[i])+\" posts \"+str(i+1)+\"/\"+str(len(cat_urls)))\n",
    "  dates=[]\n",
    "  titles=[]\n",
    "  post_texts=[]\n",
    "  for web in pbar:\n",
    "    \n",
    "    page_content=requests.get(web).text\n",
    "    soup = BeautifulSoup(page_content, \"html.parser\")\n",
    "    \n",
    "    \n",
    "    \n",
    "    #find title of post\n",
    "    for t in soup.find_all(\"a\", href=re.compile(\"/td-p/\")):\n",
    "      titles.append(t.get('title'))\n",
    "    #find post text\n",
    "    for p in soup.find_all('p', {'body-text'}):\n",
    "      text=p.text\n",
    "      post_texts.append(re.sub('\\n',' ',text).strip())\n",
    "    #find date of post\n",
    "    for d in soup.find_all('time'):\n",
    "      dates.append(d.text)\n",
    "      \n",
    "    \n",
    "  posts.append([list(x) for x in zip([cat_urls[i]]*len(titles),dates,titles,post_texts)])\n",
    "  print(\"Scraped \"+str(len(post_texts)))\n",
    "    \n",
    "\n",
    "    \n",
    "    \n",
    "\n",
    "\n",
    "    "
   ]
  },
  {
   "cell_type": "code",
   "execution_count": 14,
   "metadata": {
    "colab": {
     "base_uri": "https://localhost:8080/"
    },
    "id": "JctH8d2wpTIz",
    "outputId": "9c3b185c-f0e9-4c7d-b01b-6ee44d0b18b5"
   },
   "outputs": [
    {
     "data": {
      "text/plain": [
       "17668"
      ]
     },
     "execution_count": 14,
     "metadata": {},
     "output_type": "execute_result"
    }
   ],
   "source": [
    "from itertools import chain\n",
    "posts_new=list(chain(*posts))\n",
    "len(posts_new)"
   ]
  },
  {
   "cell_type": "code",
   "execution_count": 15,
   "metadata": {
    "id": "N7qsbfGuS1PC"
   },
   "outputs": [],
   "source": [
    "import pandas as pd\n",
    "\n",
    "mental_health_df=pd.DataFrame(posts_new, columns=['category','date','title','text'])"
   ]
  },
  {
   "cell_type": "code",
   "execution_count": 18,
   "metadata": {
    "id": "nRBDMwReqUS4"
   },
   "outputs": [],
   "source": [
    "#In date column of df some dates are in text format like yesterday, week ago or Monday, Tuesday etc.\n",
    "\n",
    "unique_dates=[]\n",
    "for date in mental_health_df['date'].tolist():\n",
    "  re_date=re.search('^[0-9]{1,2}-[0-9]{1,2}-[0-9]{4}$',date)\n",
    "  if re_date==None:\n",
    "    d_ago=re.sub('[0-9]','',date).strip()\n",
    "    if d_ago in unique_dates:\n",
    "      continue\n",
    "    unique_dates.append(d_ago)\n"
   ]
  },
  {
   "cell_type": "code",
   "execution_count": 19,
   "metadata": {
    "colab": {
     "base_uri": "https://localhost:8080/"
    },
    "id": "Qbe8aS4yrV6R",
    "outputId": "119985d9-7126-4186-e89c-6c72372e2156"
   },
   "outputs": [
    {
     "data": {
      "text/plain": [
       "['yesterday',\n",
       " 'weeks ago',\n",
       " 'Tuesday',\n",
       " 'Sunday',\n",
       " 'Friday',\n",
       " 'a week ago',\n",
       " 'a month ago',\n",
       " 'Monday',\n",
       " 'hours ago',\n",
       " 'Saturday',\n",
       " 'Thursday']"
      ]
     },
     "execution_count": 19,
     "metadata": {},
     "output_type": "execute_result"
    }
   ],
   "source": [
    "unique_dates"
   ]
  },
  {
   "cell_type": "code",
   "execution_count": 20,
   "metadata": {
    "id": "Gn_Qx1MbsLYW"
   },
   "outputs": [],
   "source": [
    "from datetime import datetime, timedelta\n",
    "from datetime import date\n",
    "from dateutil.relativedelta import relativedelta\n",
    "import re\n",
    "weekdays={'Monday':0, 'Tuesday':1, 'Wednesday':2, 'Thursday':3, 'Friday':4, 'Saturday':5, 'Sunday':6}\n",
    "#For dates expressed as day of week, function to parse day to date in format dd-mm-YYYY\n",
    "def parse_day_to_date(day):\n",
    "\n",
    "      date_weekday=None\n",
    "      today=date.today()\n",
    "      #If current day of week is before day from df we have to get date from last week\n",
    "      if today.weekday()<weekdays[day]:\n",
    "  \n",
    "        start_week=today - timedelta(days=today.weekday())\n",
    "        tmp_weekday=start_week+timedelta(days=weekdays[day])\n",
    "        date_weekday=tmp_weekday-timedelta(days=7)\n",
    "      else:\n",
    "        start_week=today - timedelta(days=today.weekday())\n",
    "        date_weekday= start_week + timedelta(days=weekdays[day])\n",
    "\n",
    "      return date_weekday\n",
    "#For other dates in wrong format convert them to date in correct format\n",
    "def parse_string(date_ago):\n",
    "  re_date=re.search('^[0-9]{1,2}-[0-9]{1,2}-[0-9]{4}$',date_ago)\n",
    "  date_proper=None\n",
    "  \n",
    "  if re_date==None:\n",
    "    \n",
    "    if date_ago=='yesterday':\n",
    "      date_proper=datetime.now()-timedelta(days=1)\n",
    "      \n",
    "    else:\n",
    "      date_str=re.sub('[0-9]','',date_ago).strip()\n",
    "      \n",
    "      date_num=re.findall('\\d+',date_ago)\n",
    "      if len(date_num)!=0:\n",
    "        date_num=re.findall('\\d+',date_ago)[0]\n",
    "\n",
    "\n",
    "      if date_str=='weeks ago':\n",
    "        days_w=int(date_num)*7\n",
    "        date_proper=datetime.now()-timedelta(days=days_w)\n",
    "      elif date_str=='a week ago':\n",
    "        days_w=7\n",
    "        date_proper=datetime.now()-timedelta(days=days_w)\n",
    "      elif date_str=='a month ago':\n",
    "        date_proper=date.today() + relativedelta(months=-1)\n",
    "      elif date_str=='hours ago':\n",
    "        date_proper=date.today()\n",
    "      else:\n",
    "        \n",
    "        \n",
    "        \n",
    "        date_proper=parse_day_to_date(date_str)\n",
    "    date_proper=date_proper.strftime('%d-%m-%Y')\n",
    "\n",
    "  else:\n",
    "    date_proper=date_ago\n",
    "  return date_proper\n",
    "  \n",
    "    \n"
   ]
  },
  {
   "cell_type": "code",
   "execution_count": 27,
   "metadata": {
    "id": "udTJg3uBu2Gb"
   },
   "outputs": [],
   "source": [
    "mental_health_df['date_correct']=mental_health_df['date'].apply(lambda x : parse_string(x))"
   ]
  },
  {
   "cell_type": "code",
   "execution_count": 28,
   "metadata": {},
   "outputs": [
    {
     "data": {
      "text/html": [
       "<div>\n",
       "<style scoped>\n",
       "    .dataframe tbody tr th:only-of-type {\n",
       "        vertical-align: middle;\n",
       "    }\n",
       "\n",
       "    .dataframe tbody tr th {\n",
       "        vertical-align: top;\n",
       "    }\n",
       "\n",
       "    .dataframe thead th {\n",
       "        text-align: right;\n",
       "    }\n",
       "</style>\n",
       "<table border=\"1\" class=\"dataframe\">\n",
       "  <thead>\n",
       "    <tr style=\"text-align: right;\">\n",
       "      <th></th>\n",
       "      <th>category</th>\n",
       "      <th>date</th>\n",
       "      <th>title</th>\n",
       "      <th>text</th>\n",
       "      <th>date_correct</th>\n",
       "    </tr>\n",
       "  </thead>\n",
       "  <tbody>\n",
       "    <tr>\n",
       "      <th>0</th>\n",
       "      <td>Anxiety</td>\n",
       "      <td>22-10-2019</td>\n",
       "      <td>what physical feelings of anxiety do you get?</td>\n",
       "      <td>hey there, what physical symptoms of anxiety d...</td>\n",
       "      <td>22-10-2019</td>\n",
       "    </tr>\n",
       "    <tr>\n",
       "      <th>1</th>\n",
       "      <td>Anxiety</td>\n",
       "      <td>17-11-2015</td>\n",
       "      <td>Forums etiquette: give support to receive support</td>\n",
       "      <td>Hi everyone, particularly any new members who ...</td>\n",
       "      <td>17-11-2015</td>\n",
       "    </tr>\n",
       "    <tr>\n",
       "      <th>2</th>\n",
       "      <td>Anxiety</td>\n",
       "      <td>26-12-2021</td>\n",
       "      <td>Health Anxiety - How Do You Manage?</td>\n",
       "      <td>Hello I am 59 years of age - I have had awful ...</td>\n",
       "      <td>26-12-2021</td>\n",
       "    </tr>\n",
       "    <tr>\n",
       "      <th>3</th>\n",
       "      <td>Anxiety</td>\n",
       "      <td>14-10-2019</td>\n",
       "      <td>The Dark Spiral of OCD and Bipolar</td>\n",
       "      <td>Hi, first time posting on here (or anywhere fo...</td>\n",
       "      <td>14-10-2019</td>\n",
       "    </tr>\n",
       "    <tr>\n",
       "      <th>4</th>\n",
       "      <td>Anxiety</td>\n",
       "      <td>19-10-2022</td>\n",
       "      <td>Anxiety about the future</td>\n",
       "      <td>Hi everyone, I'm 18 years old and recently mov...</td>\n",
       "      <td>19-10-2022</td>\n",
       "    </tr>\n",
       "    <tr>\n",
       "      <th>...</th>\n",
       "      <td>...</td>\n",
       "      <td>...</td>\n",
       "      <td>...</td>\n",
       "      <td>...</td>\n",
       "      <td>...</td>\n",
       "    </tr>\n",
       "    <tr>\n",
       "      <th>17663</th>\n",
       "      <td>Suicidal thoughts and self-harm</td>\n",
       "      <td>07-09-2015</td>\n",
       "      <td>PLEASE READ THIS FIRST: posting in this section</td>\n",
       "      <td>Life gets pretty hard sometimes and many peopl...</td>\n",
       "      <td>07-09-2015</td>\n",
       "    </tr>\n",
       "    <tr>\n",
       "      <th>17664</th>\n",
       "      <td>Suicidal thoughts and self-harm</td>\n",
       "      <td>09-04-2017</td>\n",
       "      <td>13 Reasons Why</td>\n",
       "      <td>I'm not sure if anyone has seen the Netflix se...</td>\n",
       "      <td>09-04-2017</td>\n",
       "    </tr>\n",
       "    <tr>\n",
       "      <th>17665</th>\n",
       "      <td>Suicidal thoughts and self-harm</td>\n",
       "      <td>27-11-2016</td>\n",
       "      <td>Feeling really down and struggling</td>\n",
       "      <td>Hi guys, I am new to Beyond Blue and to comple...</td>\n",
       "      <td>27-11-2016</td>\n",
       "    </tr>\n",
       "    <tr>\n",
       "      <th>17666</th>\n",
       "      <td>Suicidal thoughts and self-harm</td>\n",
       "      <td>07-09-2015</td>\n",
       "      <td>PLEASE READ THIS FIRST: posting in this section</td>\n",
       "      <td>Life gets pretty hard sometimes and many peopl...</td>\n",
       "      <td>07-09-2015</td>\n",
       "    </tr>\n",
       "    <tr>\n",
       "      <th>17667</th>\n",
       "      <td>Suicidal thoughts and self-harm</td>\n",
       "      <td>19-06-2013</td>\n",
       "      <td>I just want to curl into a ball and die</td>\n",
       "      <td>(I have posted a few times) My life is a const...</td>\n",
       "      <td>19-06-2013</td>\n",
       "    </tr>\n",
       "  </tbody>\n",
       "</table>\n",
       "<p>17668 rows × 5 columns</p>\n",
       "</div>"
      ],
      "text/plain": [
       "                              category        date  \\\n",
       "0                              Anxiety  22-10-2019   \n",
       "1                              Anxiety  17-11-2015   \n",
       "2                              Anxiety  26-12-2021   \n",
       "3                              Anxiety  14-10-2019   \n",
       "4                              Anxiety  19-10-2022   \n",
       "...                                ...         ...   \n",
       "17663  Suicidal thoughts and self-harm  07-09-2015   \n",
       "17664  Suicidal thoughts and self-harm  09-04-2017   \n",
       "17665  Suicidal thoughts and self-harm  27-11-2016   \n",
       "17666  Suicidal thoughts and self-harm  07-09-2015   \n",
       "17667  Suicidal thoughts and self-harm  19-06-2013   \n",
       "\n",
       "                                                   title  \\\n",
       "0          what physical feelings of anxiety do you get?   \n",
       "1      Forums etiquette: give support to receive support   \n",
       "2                    Health Anxiety - How Do You Manage?   \n",
       "3                     The Dark Spiral of OCD and Bipolar   \n",
       "4                               Anxiety about the future   \n",
       "...                                                  ...   \n",
       "17663    PLEASE READ THIS FIRST: posting in this section   \n",
       "17664                                     13 Reasons Why   \n",
       "17665                 Feeling really down and struggling   \n",
       "17666    PLEASE READ THIS FIRST: posting in this section   \n",
       "17667            I just want to curl into a ball and die   \n",
       "\n",
       "                                                    text date_correct  \n",
       "0      hey there, what physical symptoms of anxiety d...   22-10-2019  \n",
       "1      Hi everyone, particularly any new members who ...   17-11-2015  \n",
       "2      Hello I am 59 years of age - I have had awful ...   26-12-2021  \n",
       "3      Hi, first time posting on here (or anywhere fo...   14-10-2019  \n",
       "4      Hi everyone, I'm 18 years old and recently mov...   19-10-2022  \n",
       "...                                                  ...          ...  \n",
       "17663  Life gets pretty hard sometimes and many peopl...   07-09-2015  \n",
       "17664  I'm not sure if anyone has seen the Netflix se...   09-04-2017  \n",
       "17665  Hi guys, I am new to Beyond Blue and to comple...   27-11-2016  \n",
       "17666  Life gets pretty hard sometimes and many peopl...   07-09-2015  \n",
       "17667  (I have posted a few times) My life is a const...   19-06-2013  \n",
       "\n",
       "[17668 rows x 5 columns]"
      ]
     },
     "execution_count": 28,
     "metadata": {},
     "output_type": "execute_result"
    }
   ],
   "source": [
    "mental_health_df"
   ]
  },
  {
   "cell_type": "code",
   "execution_count": 29,
   "metadata": {
    "id": "5xRP_LKz7V-_"
   },
   "outputs": [],
   "source": [
    "mental_health_df=mental_health_df.drop('date_correct', axis=1)"
   ]
  },
  {
   "cell_type": "code",
   "execution_count": 30,
   "metadata": {
    "colab": {
     "base_uri": "https://localhost:8080/",
     "height": 424
    },
    "id": "05n_7Cw27vNF",
    "outputId": "9cb78b9f-706e-4a6b-8577-2c91b5c0b7a1"
   },
   "outputs": [
    {
     "data": {
      "text/html": [
       "<div>\n",
       "<style scoped>\n",
       "    .dataframe tbody tr th:only-of-type {\n",
       "        vertical-align: middle;\n",
       "    }\n",
       "\n",
       "    .dataframe tbody tr th {\n",
       "        vertical-align: top;\n",
       "    }\n",
       "\n",
       "    .dataframe thead th {\n",
       "        text-align: right;\n",
       "    }\n",
       "</style>\n",
       "<table border=\"1\" class=\"dataframe\">\n",
       "  <thead>\n",
       "    <tr style=\"text-align: right;\">\n",
       "      <th></th>\n",
       "      <th>category</th>\n",
       "      <th>date</th>\n",
       "      <th>title</th>\n",
       "      <th>text</th>\n",
       "    </tr>\n",
       "  </thead>\n",
       "  <tbody>\n",
       "    <tr>\n",
       "      <th>0</th>\n",
       "      <td>Anxiety</td>\n",
       "      <td>22-10-2019</td>\n",
       "      <td>what physical feelings of anxiety do you get?</td>\n",
       "      <td>hey there, what physical symptoms of anxiety d...</td>\n",
       "    </tr>\n",
       "    <tr>\n",
       "      <th>1</th>\n",
       "      <td>Anxiety</td>\n",
       "      <td>17-11-2015</td>\n",
       "      <td>Forums etiquette: give support to receive support</td>\n",
       "      <td>Hi everyone, particularly any new members who ...</td>\n",
       "    </tr>\n",
       "    <tr>\n",
       "      <th>2</th>\n",
       "      <td>Anxiety</td>\n",
       "      <td>26-12-2021</td>\n",
       "      <td>Health Anxiety - How Do You Manage?</td>\n",
       "      <td>Hello I am 59 years of age - I have had awful ...</td>\n",
       "    </tr>\n",
       "    <tr>\n",
       "      <th>3</th>\n",
       "      <td>Anxiety</td>\n",
       "      <td>14-10-2019</td>\n",
       "      <td>The Dark Spiral of OCD and Bipolar</td>\n",
       "      <td>Hi, first time posting on here (or anywhere fo...</td>\n",
       "    </tr>\n",
       "    <tr>\n",
       "      <th>4</th>\n",
       "      <td>Anxiety</td>\n",
       "      <td>19-10-2022</td>\n",
       "      <td>Anxiety about the future</td>\n",
       "      <td>Hi everyone, I'm 18 years old and recently mov...</td>\n",
       "    </tr>\n",
       "    <tr>\n",
       "      <th>...</th>\n",
       "      <td>...</td>\n",
       "      <td>...</td>\n",
       "      <td>...</td>\n",
       "      <td>...</td>\n",
       "    </tr>\n",
       "    <tr>\n",
       "      <th>17663</th>\n",
       "      <td>Suicidal thoughts and self-harm</td>\n",
       "      <td>07-09-2015</td>\n",
       "      <td>PLEASE READ THIS FIRST: posting in this section</td>\n",
       "      <td>Life gets pretty hard sometimes and many peopl...</td>\n",
       "    </tr>\n",
       "    <tr>\n",
       "      <th>17664</th>\n",
       "      <td>Suicidal thoughts and self-harm</td>\n",
       "      <td>09-04-2017</td>\n",
       "      <td>13 Reasons Why</td>\n",
       "      <td>I'm not sure if anyone has seen the Netflix se...</td>\n",
       "    </tr>\n",
       "    <tr>\n",
       "      <th>17665</th>\n",
       "      <td>Suicidal thoughts and self-harm</td>\n",
       "      <td>27-11-2016</td>\n",
       "      <td>Feeling really down and struggling</td>\n",
       "      <td>Hi guys, I am new to Beyond Blue and to comple...</td>\n",
       "    </tr>\n",
       "    <tr>\n",
       "      <th>17666</th>\n",
       "      <td>Suicidal thoughts and self-harm</td>\n",
       "      <td>07-09-2015</td>\n",
       "      <td>PLEASE READ THIS FIRST: posting in this section</td>\n",
       "      <td>Life gets pretty hard sometimes and many peopl...</td>\n",
       "    </tr>\n",
       "    <tr>\n",
       "      <th>17667</th>\n",
       "      <td>Suicidal thoughts and self-harm</td>\n",
       "      <td>19-06-2013</td>\n",
       "      <td>I just want to curl into a ball and die</td>\n",
       "      <td>(I have posted a few times) My life is a const...</td>\n",
       "    </tr>\n",
       "  </tbody>\n",
       "</table>\n",
       "<p>17668 rows × 4 columns</p>\n",
       "</div>"
      ],
      "text/plain": [
       "                              category        date  \\\n",
       "0                              Anxiety  22-10-2019   \n",
       "1                              Anxiety  17-11-2015   \n",
       "2                              Anxiety  26-12-2021   \n",
       "3                              Anxiety  14-10-2019   \n",
       "4                              Anxiety  19-10-2022   \n",
       "...                                ...         ...   \n",
       "17663  Suicidal thoughts and self-harm  07-09-2015   \n",
       "17664  Suicidal thoughts and self-harm  09-04-2017   \n",
       "17665  Suicidal thoughts and self-harm  27-11-2016   \n",
       "17666  Suicidal thoughts and self-harm  07-09-2015   \n",
       "17667  Suicidal thoughts and self-harm  19-06-2013   \n",
       "\n",
       "                                                   title  \\\n",
       "0          what physical feelings of anxiety do you get?   \n",
       "1      Forums etiquette: give support to receive support   \n",
       "2                    Health Anxiety - How Do You Manage?   \n",
       "3                     The Dark Spiral of OCD and Bipolar   \n",
       "4                               Anxiety about the future   \n",
       "...                                                  ...   \n",
       "17663    PLEASE READ THIS FIRST: posting in this section   \n",
       "17664                                     13 Reasons Why   \n",
       "17665                 Feeling really down and struggling   \n",
       "17666    PLEASE READ THIS FIRST: posting in this section   \n",
       "17667            I just want to curl into a ball and die   \n",
       "\n",
       "                                                    text  \n",
       "0      hey there, what physical symptoms of anxiety d...  \n",
       "1      Hi everyone, particularly any new members who ...  \n",
       "2      Hello I am 59 years of age - I have had awful ...  \n",
       "3      Hi, first time posting on here (or anywhere fo...  \n",
       "4      Hi everyone, I'm 18 years old and recently mov...  \n",
       "...                                                  ...  \n",
       "17663  Life gets pretty hard sometimes and many peopl...  \n",
       "17664  I'm not sure if anyone has seen the Netflix se...  \n",
       "17665  Hi guys, I am new to Beyond Blue and to comple...  \n",
       "17666  Life gets pretty hard sometimes and many peopl...  \n",
       "17667  (I have posted a few times) My life is a const...  \n",
       "\n",
       "[17668 rows x 4 columns]"
      ]
     },
     "execution_count": 30,
     "metadata": {},
     "output_type": "execute_result"
    }
   ],
   "source": [
    "mental_health_df"
   ]
  },
  {
   "cell_type": "code",
   "execution_count": null,
   "metadata": {},
   "outputs": [],
   "source": []
  }
 ],
 "metadata": {
  "colab": {
   "collapsed_sections": [],
   "machine_shape": "hm",
   "provenance": []
  },
  "kernelspec": {
   "display_name": "Python 3 (ipykernel)",
   "language": "python",
   "name": "python3"
  },
  "language_info": {
   "codemirror_mode": {
    "name": "ipython",
    "version": 3
   },
   "file_extension": ".py",
   "mimetype": "text/x-python",
   "name": "python",
   "nbconvert_exporter": "python",
   "pygments_lexer": "ipython3",
   "version": "3.10.6"
  }
 },
 "nbformat": 4,
 "nbformat_minor": 1
}
